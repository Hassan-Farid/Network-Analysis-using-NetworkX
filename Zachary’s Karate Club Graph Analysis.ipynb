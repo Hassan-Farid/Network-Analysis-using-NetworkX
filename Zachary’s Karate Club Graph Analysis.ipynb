{
 "cells": [
  {
   "cell_type": "code",
   "execution_count": 1,
   "metadata": {
    "executionInfo": {
     "elapsed": 3040,
     "status": "ok",
     "timestamp": 1619300611662,
     "user": {
      "displayName": "Hassan Farid",
      "photoUrl": "",
      "userId": "05321934208926622062"
     },
     "user_tz": -300
    },
    "id": "f36cqHf854TD"
   },
   "outputs": [],
   "source": [
    "import networkx as nx\n",
    "import matplotlib.pyplot as plt\n",
    "import pandas as pd"
   ]
  },
  {
   "cell_type": "code",
   "execution_count": 2,
   "metadata": {
    "colab": {
     "base_uri": "https://localhost:8080/"
    },
    "executionInfo": {
     "elapsed": 3017,
     "status": "ok",
     "timestamp": 1619300611682,
     "user": {
      "displayName": "Hassan Farid",
      "photoUrl": "",
      "userId": "05321934208926622062"
     },
     "user_tz": -300
    },
    "id": "dp-auQgj6HU8",
    "outputId": "abfe783d-aac3-445d-ba19-3e40e640dd2c"
   },
   "outputs": [
    {
     "data": {
      "text/plain": [
       "<networkx.classes.graph.Graph at 0x1fed58edee0>"
      ]
     },
     "execution_count": 2,
     "metadata": {},
     "output_type": "execute_result"
    }
   ],
   "source": [
    "#Loading the Karate club's graph dataset\n",
    "nx_data = nx.karate_club_graph()\n",
    "nx_data"
   ]
  },
  {
   "cell_type": "code",
   "execution_count": 3,
   "metadata": {
    "colab": {
     "base_uri": "https://localhost:8080/"
    },
    "executionInfo": {
     "elapsed": 2973,
     "status": "ok",
     "timestamp": 1619300611687,
     "user": {
      "displayName": "Hassan Farid",
      "photoUrl": "",
      "userId": "05321934208926622062"
     },
     "user_tz": -300
    },
    "id": "BLBU7WxI6TxY",
    "outputId": "bb86d527-4915-4ad6-de79-7f77edefc649"
   },
   "outputs": [
    {
     "data": {
      "text/plain": [
       "NodeView((0, 1, 2, 3, 4, 5, 6, 7, 8, 9, 10, 11, 12, 13, 14, 15, 16, 17, 18, 19, 20, 21, 22, 23, 24, 25, 26, 27, 28, 29, 30, 31, 32, 33))"
      ]
     },
     "execution_count": 3,
     "metadata": {},
     "output_type": "execute_result"
    }
   ],
   "source": [
    "#Viewing the nodes for the graph\n",
    "nx_data.nodes()"
   ]
  },
  {
   "cell_type": "code",
   "execution_count": 4,
   "metadata": {
    "colab": {
     "base_uri": "https://localhost:8080/"
    },
    "executionInfo": {
     "elapsed": 2922,
     "status": "ok",
     "timestamp": 1619300611690,
     "user": {
      "displayName": "Hassan Farid",
      "photoUrl": "",
      "userId": "05321934208926622062"
     },
     "user_tz": -300
    },
    "id": "WckDviTO6YiI",
    "outputId": "fa1b2f03-1213-4f31-941a-41b7c8b8d526"
   },
   "outputs": [
    {
     "data": {
      "text/plain": [
       "EdgeView([(0, 1), (0, 2), (0, 3), (0, 4), (0, 5), (0, 6), (0, 7), (0, 8), (0, 10), (0, 11), (0, 12), (0, 13), (0, 17), (0, 19), (0, 21), (0, 31), (1, 2), (1, 3), (1, 7), (1, 13), (1, 17), (1, 19), (1, 21), (1, 30), (2, 3), (2, 7), (2, 8), (2, 9), (2, 13), (2, 27), (2, 28), (2, 32), (3, 7), (3, 12), (3, 13), (4, 6), (4, 10), (5, 6), (5, 10), (5, 16), (6, 16), (8, 30), (8, 32), (8, 33), (9, 33), (13, 33), (14, 32), (14, 33), (15, 32), (15, 33), (18, 32), (18, 33), (19, 33), (20, 32), (20, 33), (22, 32), (22, 33), (23, 25), (23, 27), (23, 29), (23, 32), (23, 33), (24, 25), (24, 27), (24, 31), (25, 31), (26, 29), (26, 33), (27, 33), (28, 31), (28, 33), (29, 32), (29, 33), (30, 32), (30, 33), (31, 32), (31, 33), (32, 33)])"
      ]
     },
     "execution_count": 4,
     "metadata": {},
     "output_type": "execute_result"
    }
   ],
   "source": [
    "#Viewing the edges for the graph\n",
    "nx_data.edges()"
   ]
  },
  {
   "cell_type": "code",
   "execution_count": 5,
   "metadata": {
    "colab": {
     "base_uri": "https://localhost:8080/"
    },
    "executionInfo": {
     "elapsed": 2824,
     "status": "ok",
     "timestamp": 1619300611692,
     "user": {
      "displayName": "Hassan Farid",
      "photoUrl": "",
      "userId": "05321934208926622062"
     },
     "user_tz": -300
    },
    "id": "Y_e1Uo4V6dhw",
    "outputId": "95fac58d-b7f5-4dc2-a778-398943f1dd1c"
   },
   "outputs": [
    {
     "data": {
      "text/plain": [
       "DegreeView({0: 16, 1: 9, 2: 10, 3: 6, 4: 3, 5: 4, 6: 4, 7: 4, 8: 5, 9: 2, 10: 3, 11: 1, 12: 2, 13: 5, 14: 2, 15: 2, 16: 2, 17: 2, 18: 2, 19: 3, 20: 2, 21: 2, 22: 2, 23: 5, 24: 3, 25: 3, 26: 2, 27: 4, 28: 3, 29: 4, 30: 4, 31: 6, 32: 12, 33: 17})"
      ]
     },
     "execution_count": 5,
     "metadata": {},
     "output_type": "execute_result"
    }
   ],
   "source": [
    "#Viewing the degree for each node in the graph\n",
    "nx_data.degree()"
   ]
  },
  {
   "cell_type": "code",
   "execution_count": 6,
   "metadata": {
    "colab": {
     "base_uri": "https://localhost:8080/"
    },
    "executionInfo": {
     "elapsed": 2792,
     "status": "ok",
     "timestamp": 1619300611697,
     "user": {
      "displayName": "Hassan Farid",
      "photoUrl": "",
      "userId": "05321934208926622062"
     },
     "user_tz": -300
    },
    "id": "k3NXxrMN7-33",
    "outputId": "82655e7d-4d8a-4ae1-cdf1-96486cc9719e"
   },
   "outputs": [
    {
     "data": {
      "text/plain": [
       "[(33, 17), (0, 16), (32, 12), (2, 10), (1, 9)]"
      ]
     },
     "execution_count": 6,
     "metadata": {},
     "output_type": "execute_result"
    }
   ],
   "source": [
    "#Stating the nodes with the most degree (Top 5)\n",
    "sorted(dict(nx_data.degree()).items(), key=lambda x:x[1], reverse=True)[:5]"
   ]
  },
  {
   "cell_type": "markdown",
   "metadata": {
    "id": "ReKEJm8l93MH"
   },
   "source": [
    "# Degree Centrality\n",
    "Tells how many nodes each node is connected to. This would mean the number of relationships an object has to other objects in the provided dataset domain."
   ]
  },
  {
   "cell_type": "code",
   "execution_count": 7,
   "metadata": {
    "colab": {
     "base_uri": "https://localhost:8080/"
    },
    "executionInfo": {
     "elapsed": 2763,
     "status": "ok",
     "timestamp": 1619300611700,
     "user": {
      "displayName": "Hassan Farid",
      "photoUrl": "",
      "userId": "05321934208926622062"
     },
     "user_tz": -300
    },
    "id": "LsHmCCEl98d_",
    "outputId": "6985c518-68fc-4f4c-ecef-da179d75a647"
   },
   "outputs": [
    {
     "data": {
      "text/plain": [
       "48.484848484848484"
      ]
     },
     "execution_count": 7,
     "metadata": {},
     "output_type": "execute_result"
    }
   ],
   "source": [
    "#Creating a function to view the percentage of centrality of a certain node\n",
    "def get_degree_centrality(node):\n",
    "    node_degree = nx_data.degree(node)\n",
    "    total_nodes = (len(nx_data.nodes()) - 1) #Exclude the node under consideration\n",
    "\n",
    "    #Computing centrality of the node\n",
    "    degree_centrality = node_degree / total_nodes \n",
    "    return degree_centrality * 100\n",
    "\n",
    "#Viewing degree centrality for node 0\n",
    "get_degree_centrality(0)"
   ]
  },
  {
   "cell_type": "code",
   "execution_count": 8,
   "metadata": {
    "colab": {
     "base_uri": "https://localhost:8080/"
    },
    "executionInfo": {
     "elapsed": 2730,
     "status": "ok",
     "timestamp": 1619300611702,
     "user": {
      "displayName": "Hassan Farid",
      "photoUrl": "",
      "userId": "05321934208926622062"
     },
     "user_tz": -300
    },
    "id": "eVO4mtHt_VC4",
    "outputId": "6d08c127-8b7f-4901-cd39-bd83ff452eb3"
   },
   "outputs": [
    {
     "data": {
      "text/plain": [
       "[(33, 51.52), (0, 48.48), (32, 36.36), (2, 30.3), (1, 27.27)]"
      ]
     },
     "execution_count": 8,
     "metadata": {},
     "output_type": "execute_result"
    }
   ],
   "source": [
    "#Using the built-in method to compute degree centralities (in %) for all the nodes (Viewing first 5 nodes)\n",
    "sorted([(u, round(v * 100, 2)) for (u,v) in nx.degree_centrality(nx_data).items()], key=lambda x:x[1], reverse=True)[:5]"
   ]
  },
  {
   "cell_type": "code",
   "execution_count": 9,
   "metadata": {
    "colab": {
     "base_uri": "https://localhost:8080/",
     "height": 279
    },
    "executionInfo": {
     "elapsed": 1044,
     "status": "ok",
     "timestamp": 1619302395197,
     "user": {
      "displayName": "Hassan Farid",
      "photoUrl": "",
      "userId": "05321934208926622062"
     },
     "user_tz": -300
    },
    "id": "2AvCejt0ZZQv",
    "outputId": "4e319b27-405e-4d6a-b2ff-92c9eee5e278"
   },
   "outputs": [
    {
     "data": {
      "image/png": "[encoded data removed]",
      "text/plain": [
       "<Figure size 432x288 with 1 Axes>"
      ]
     },
     "metadata": {
      "needs_background": "light"
     },
     "output_type": "display_data"
    }
   ],
   "source": [
    "#Visualizing degree centralities\n",
    "deg_centre_list = [(u, round(v, 2)) for (u,v) in nx.degree_centrality(nx_data).items()]\n",
    "u, v = [x[0] for x in deg_centre_list], [x[1] for x in deg_centre_list]\n",
    "plt.plot(u, v)\n",
    "plt.xlabel('Node')\n",
    "plt.ylabel('Degree Centrality')\n",
    "plt.show()"
   ]
  },
  {
   "cell_type": "markdown",
   "metadata": {
    "id": "W5c016bEEeoR"
   },
   "source": [
    "The graph shows us that the 33rd student at the Karate club has the most number of relations with other students in the Karate club whereas the 11th student has the lowest interaction with other students"
   ]
  },
  {
   "cell_type": "markdown",
   "metadata": {
    "id": "9Vv6QPjdAg-Z"
   },
   "source": [
    "# Closeness Centrality\n",
    "Closeness Centrality tells us the average length of relationship each node has with the other nodes i.e. the shortest way in which one node can interact with another. This would mean the average shortest path length each object has with all the other objects in the provided dataset domain."
   ]
  },
  {
   "cell_type": "code",
   "execution_count": 10,
   "metadata": {
    "executionInfo": {
     "elapsed": 3428,
     "status": "aborted",
     "timestamp": 1619300612485,
     "user": {
      "displayName": "Hassan Farid",
      "photoUrl": "",
      "userId": "05321934208926622062"
     },
     "user_tz": -300
    },
    "id": "w_QRZGqpAjgb"
   },
   "outputs": [
    {
     "data": {
      "text/plain": [
       "{0: 0,\n",
       " 1: 1,\n",
       " 2: 1,\n",
       " 3: 1,\n",
       " 4: 1,\n",
       " 5: 1,\n",
       " 6: 1,\n",
       " 7: 1,\n",
       " 8: 1,\n",
       " 10: 1,\n",
       " 11: 1,\n",
       " 12: 1,\n",
       " 13: 1,\n",
       " 17: 1,\n",
       " 19: 1,\n",
       " 21: 1,\n",
       " 31: 1,\n",
       " 9: 2,\n",
       " 16: 2,\n",
       " 24: 2,\n",
       " 25: 2,\n",
       " 27: 2,\n",
       " 28: 2,\n",
       " 30: 2,\n",
       " 32: 2,\n",
       " 33: 2,\n",
       " 14: 3,\n",
       " 15: 3,\n",
       " 18: 3,\n",
       " 20: 3,\n",
       " 22: 3,\n",
       " 23: 3,\n",
       " 26: 3,\n",
       " 29: 3}"
      ]
     },
     "execution_count": 10,
     "metadata": {},
     "output_type": "execute_result"
    }
   ],
   "source": [
    "#Viewing all the shortest path lengths from the node 0\n",
    "shrt_paths = nx.shortest_path_length(nx_data)\n",
    "dict(shrt_paths)[0]"
   ]
  },
  {
   "cell_type": "code",
   "execution_count": 11,
   "metadata": {
    "executionInfo": {
     "elapsed": 3399,
     "status": "aborted",
     "timestamp": 1619300612489,
     "user": {
      "displayName": "Hassan Farid",
      "photoUrl": "",
      "userId": "05321934208926622062"
     },
     "user_tz": -300
    },
    "id": "vRf_NE6hCGSN"
   },
   "outputs": [
    {
     "data": {
      "text/plain": [
       "56.896551724137936"
      ]
     },
     "execution_count": 11,
     "metadata": {},
     "output_type": "execute_result"
    }
   ],
   "source": [
    "#Computing closeness centrality for a node\n",
    "def get_closeness_centrality(node):\n",
    "    node_path_lengths = dict(nx.shortest_path_length(nx_data))[node]\n",
    "    total_nodes = (len(nx_data.nodes()) - 1) #Exclude the node under consideration\n",
    "\n",
    "    #Computing sum of all shortest path lengths\n",
    "    node_path_sum = sum(node_path_lengths.values())\n",
    "\n",
    "    #Computing the closeness centrality\n",
    "    close_centrality = total_nodes / node_path_sum\n",
    "\n",
    "    return close_centrality * 100 \n",
    "\n",
    "#Viewing closeness centrality for node 0\n",
    "get_closeness_centrality(0)"
   ]
  },
  {
   "cell_type": "code",
   "execution_count": 12,
   "metadata": {
    "executionInfo": {
     "elapsed": 3371,
     "status": "aborted",
     "timestamp": 1619300612497,
     "user": {
      "displayName": "Hassan Farid",
      "photoUrl": "",
      "userId": "05321934208926622062"
     },
     "user_tz": -300
    },
    "id": "OO5Ej_ZxDD_4"
   },
   "outputs": [
    {
     "data": {
      "text/plain": [
       "56.9"
      ]
     },
     "execution_count": 12,
     "metadata": {},
     "output_type": "execute_result"
    }
   ],
   "source": [
    "#Using the built-in closeness centrality method for node 0\n",
    "round(nx.closeness_centrality(nx_data)[0] * 100, 2)"
   ]
  },
  {
   "cell_type": "code",
   "execution_count": 13,
   "metadata": {
    "colab": {
     "base_uri": "https://localhost:8080/",
     "height": 279
    },
    "executionInfo": {
     "elapsed": 1078,
     "status": "ok",
     "timestamp": 1619302368322,
     "user": {
      "displayName": "Hassan Farid",
      "photoUrl": "",
      "userId": "05321934208926622062"
     },
     "user_tz": -300
    },
    "id": "Qcx0BiyD7B2V",
    "outputId": "6622c72e-1707-43a3-aa82-358bee944e17"
   },
   "outputs": [
    {
     "data": {
      "image/png": "[encoded data removed]",
      "text/plain": [
       "<Figure size 432x288 with 1 Axes>"
      ]
     },
     "metadata": {
      "needs_background": "light"
     },
     "output_type": "display_data"
    }
   ],
   "source": [
    "#Visualizing the graph data\n",
    "u, v = [], []\n",
    "for x,y in nx.closeness_centrality(nx_data).items():\n",
    "    u.append(x)\n",
    "    v.append(y)\n",
    "  \n",
    "plt.plot(u, v)\n",
    "plt.xlabel('Node')\n",
    "plt.ylabel('Close Centrality')\n",
    "plt.show()"
   ]
  },
  {
   "cell_type": "markdown",
   "metadata": {
    "id": "ZE9UEqutFQBq"
   },
   "source": [
    "The graph shows us that 0th student has the most connections with all the other students indirectly as well as directly. On the other hand, student 16th of the Karate club has lowest number of connections with others. (He is the most distant from others)"
   ]
  },
  {
   "cell_type": "markdown",
   "metadata": {
    "id": "6el-7uRv9NNS"
   },
   "source": [
    "# Betweeness Centrality\n",
    "Betweeness Centrality of a node is the measure that tells how many relationships between nodes are formed using that particular node. This means the number of interactions between two objects that occurs because of this object."
   ]
  },
  {
   "cell_type": "code",
   "execution_count": 14,
   "metadata": {
    "colab": {
     "base_uri": "https://localhost:8080/"
    },
    "executionInfo": {
     "elapsed": 736,
     "status": "ok",
     "timestamp": 1619303924405,
     "user": {
      "displayName": "Hassan Farid",
      "photoUrl": "",
      "userId": "05321934208926622062"
     },
     "user_tz": -300
    },
    "id": "vtOXoKQL8c-1",
    "outputId": "4c9e9570-49bf-4d70-df84-919be67535be"
   },
   "outputs": [
    {
     "data": {
      "text/plain": [
       "0.43763528138528146"
      ]
     },
     "execution_count": 14,
     "metadata": {},
     "output_type": "execute_result"
    }
   ],
   "source": [
    "#Computing the betweeness centrality for node 0\n",
    "nx.betweenness_centrality(nx_data)[0]"
   ]
  },
  {
   "cell_type": "code",
   "execution_count": 15,
   "metadata": {
    "colab": {
     "base_uri": "https://localhost:8080/",
     "height": 279
    },
    "executionInfo": {
     "elapsed": 1215,
     "status": "ok",
     "timestamp": 1619303977679,
     "user": {
      "displayName": "Hassan Farid",
      "photoUrl": "",
      "userId": "05321934208926622062"
     },
     "user_tz": -300
    },
    "id": "psJL6lxWCSVA",
    "outputId": "c0bee82d-b492-4349-85b1-96cd13c474a4"
   },
   "outputs": [
    {
     "data": {
      "image/png": "[encoded data removed]",
      "text/plain": [
       "<Figure size 432x288 with 1 Axes>"
      ]
     },
     "metadata": {
      "needs_background": "light"
     },
     "output_type": "display_data"
    }
   ],
   "source": [
    "#Visualizing betweenness centrality for all nodes\n",
    "u, v = [], []\n",
    "for x,y in nx.betweenness_centrality(nx_data).items():\n",
    "    u.append(x)\n",
    "    v.append(y)\n",
    "  \n",
    "plt.plot(u, v)\n",
    "plt.xlabel('Node')\n",
    "plt.ylabel('Betweenness Centrality')\n",
    "plt.show()"
   ]
  },
  {
   "cell_type": "markdown",
   "metadata": {
    "id": "p0w_Y8MFI1Vu"
   },
   "source": [
    "The graph indicates that the 0th student is the cause of the most interactions between all the other students, whereas many students (e.g. 10, 15, 16) don't have any part in the interaction between the students of the Karate club"
   ]
  },
  {
   "cell_type": "markdown",
   "metadata": {
    "id": "L41JudQCC6wN"
   },
   "source": [
    "# Eigenvector Centrality\n",
    "The Eigenvector Centrality of a node is the measure of the number of interactive nodes a particular node have interactions with. This means that the objects that this object have relationships with, must also be populated with relationships with other objects for high eigen vector centrality."
   ]
  },
  {
   "cell_type": "code",
   "execution_count": 16,
   "metadata": {
    "colab": {
     "base_uri": "https://localhost:8080/"
    },
    "executionInfo": {
     "elapsed": 1111,
     "status": "ok",
     "timestamp": 1619304164237,
     "user": {
      "displayName": "Hassan Farid",
      "photoUrl": "",
      "userId": "05321934208926622062"
     },
     "user_tz": -300
    },
    "id": "AdTgor1SDAb4",
    "outputId": "80dca277-4bcf-4765-ba65-cbf75728518e"
   },
   "outputs": [
    {
     "data": {
      "text/plain": [
       "0.3554914445245666"
      ]
     },
     "execution_count": 16,
     "metadata": {},
     "output_type": "execute_result"
    }
   ],
   "source": [
    "#Computing the eigenvector centrality for node 0\n",
    "nx.eigenvector_centrality_numpy(nx_data)[0]"
   ]
  },
  {
   "cell_type": "code",
   "execution_count": 17,
   "metadata": {
    "colab": {
     "base_uri": "https://localhost:8080/",
     "height": 279
    },
    "executionInfo": {
     "elapsed": 2590,
     "status": "ok",
     "timestamp": 1619304222419,
     "user": {
      "displayName": "Hassan Farid",
      "photoUrl": "",
      "userId": "05321934208926622062"
     },
     "user_tz": -300
    },
    "id": "Jj_LhMxODLPP",
    "outputId": "0b873701-60b4-4298-80c1-9e7b011dd492"
   },
   "outputs": [
    {
     "data": {
      "image/png": "[encoded data removed]",
      "text/plain": [
       "<Figure size 432x288 with 1 Axes>"
      ]
     },
     "metadata": {
      "needs_background": "light"
     },
     "output_type": "display_data"
    }
   ],
   "source": [
    "#Visualizing eigenvector centrality for all nodes\n",
    "u, v = [], []\n",
    "for x,y in nx.eigenvector_centrality_numpy(nx_data).items():\n",
    "    u.append(x)\n",
    "    v.append(y)\n",
    "  \n",
    "plt.plot(u, v)\n",
    "plt.xlabel('Node')\n",
    "plt.ylabel('Eigenvector Centrality')\n",
    "plt.show()"
   ]
  },
  {
   "cell_type": "markdown",
   "metadata": {
    "id": "x7zhiX1-Jm6k"
   },
   "source": [
    "The graph indicates that the 33rd student has the highest eigenvector centrality i.e. it has the most interactions with students that are popular among the karate club. On the other hand, student 16 has the lowest relationships of this kind."
   ]
  },
  {
   "cell_type": "markdown",
   "metadata": {},
   "source": [
    "# Link Prediction\n",
    "Determining the interactions between objects that are likely to occur in the near future"
   ]
  },
  {
   "cell_type": "markdown",
   "metadata": {},
   "source": [
    "### Using Jaccard's Coefficient\n",
    "Jaccard's coefficient makes use of \"proximity\" measure for the node of a network by measuring the proportion of neighbours a pair of nodes share. "
   ]
  },
  {
   "cell_type": "code",
   "execution_count": 18,
   "metadata": {},
   "outputs": [],
   "source": [
    "#Computing the Jaccard's coefficient for the nodes of the graph (showing the starting 5)\n",
    "jaccard_coeffs = tuple(nx.jaccard_coefficient(nx_data)) #(node_name, node_with, coeff_value)"
   ]
  },
  {
   "cell_type": "code",
   "execution_count": 19,
   "metadata": {},
   "outputs": [],
   "source": [
    "#Creating a dataframe for jaccard's coefficient\n",
    "nodes_list = list(x for x in nx_data.nodes)\n",
    "jaccard_corr = pd.DataFrame(columns=nodes_list, index=nodes_list)\n",
    "\n",
    "#Filling the jaccard's coefficient with its values\n",
    "for (u, v, w) in jaccard_coeffs:\n",
    "    jaccard_corr[v].loc[u] = w\n",
    "    \n",
    "jaccard_corr.fillna(0, inplace=True)"
   ]
  },
  {
   "cell_type": "code",
   "execution_count": 20,
   "metadata": {},
   "outputs": [
    {
     "data": {
      "image/png": "[encoded data removed]",
      "text/plain": [
       "<Figure size 288x288 with 1 Axes>"
      ]
     },
     "metadata": {
      "needs_background": "light"
     },
     "output_type": "display_data"
    }
   ],
   "source": [
    "#Plotting the jaccard's correlation matrix\n",
    "plt.matshow(jaccard_corr)\n",
    "plt.show()"
   ]
  },
  {
   "cell_type": "markdown",
   "metadata": {},
   "source": [
    "The matrix plot shows us that the students with numbers between 14 and 20 are in favor of forming an interaction with each other in the incoming future."
   ]
  },
  {
   "cell_type": "markdown",
   "metadata": {},
   "source": [
    "### Preferential Attachment\n",
    "Preferential Attachment predicts the future node interactions by using the terminology \"rich gets rocher\" i.e. it predicts based on the assumption that the node with more connections will be the most likely one to get more connections in the future"
   ]
  },
  {
   "cell_type": "code",
   "execution_count": 24,
   "metadata": {},
   "outputs": [],
   "source": [
    "#Computing the Preferential Attachment for the nodes of the graph (showing the starting 5)\n",
    "pa_vals = tuple(nx.preferential_attachment(nx_data))"
   ]
  },
  {
   "cell_type": "code",
   "execution_count": 25,
   "metadata": {},
   "outputs": [],
   "source": [
    "#Creating a dataframe for Preferential Attachment\n",
    "nodes_list = list(x for x in nx_data.nodes)\n",
    "pa_corr = pd.DataFrame(columns=nodes_list, index=nodes_list)\n",
    "\n",
    "#Filling the jaccard's coefficient with its values\n",
    "for (u, v, w) in pa_vals:\n",
    "    pa_corr[v].loc[u] = w\n",
    "    \n",
    "pa_corr.fillna(0, inplace=True)"
   ]
  },
  {
   "cell_type": "code",
   "execution_count": 26,
   "metadata": {},
   "outputs": [
    {
     "data": {
      "image/png": "[encoded data removed]",
      "text/plain": [
       "<Figure size 288x288 with 1 Axes>"
      ]
     },
     "metadata": {
      "needs_background": "light"
     },
     "output_type": "display_data"
    }
   ],
   "source": [
    "#Plotting the Perferential Attachment's correlation matrix\n",
    "plt.matshow(pa_corr)\n",
    "plt.show()"
   ]
  },
  {
   "cell_type": "markdown",
   "metadata": {},
   "source": [
    "As expected, since the students 0 and 33 have the most connections in the network, the Perferential Attachment matrix is telling us that 0 and 33 will have more connections in the future. Other students like 1,2,33 are also highlighted in the graph."
   ]
  }
 ],
 "metadata": {
  "colab": {
   "authorship_tag": "ABX9TyPyvbkGaX4zHwdHzPKkw/Pk",
   "collapsed_sections": [],
   "name": "Zachary’s Karate Club Graph Analysis.ipynb",
   "provenance": []
  },
  "kernelspec": {
   "display_name": "Python 3",
   "language": "python",
   "name": "python3"
  },
  "language_info": {
   "codemirror_mode": {
    "name": "ipython",
    "version": 3
   },
   "file_extension": ".py",
   "mimetype": "text/x-python",
   "name": "python",
   "nbconvert_exporter": "python",
   "pygments_lexer": "ipython3",
   "version": "3.8.2"
  }
 },
 "nbformat": 4,
 "nbformat_minor": 1
}
